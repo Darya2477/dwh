{
 "cells": [
  {
   "cell_type": "code",
   "execution_count": null,
   "id": "fc7215d1-ddd6-4fd3-b2fa-3f0558942686",
   "metadata": {},
   "outputs": [],
   "source": [
    "# import os\n",
    "# import pyspark\n",
    "# from pyspark import SparkContext, SparkConf\n",
    "# from pyspark.sql import SparkSession, Window\n",
    "\n",
    "# from pyspark.sql.types import *\n",
    "# import pyspark.sql.functions as sf\n",
    "\n",
    "# os.environ[\"HADOOP_CONF_DIR\"]=\"/etc/hadoop/conf\"\n",
    "# os.environ[\"HIVE_HOME\"]=\"/usr/lib/hive\"\n",
    "# os.environ[\"METASTORE_PORT\"]=\"9083\"\n",
    "# # os.environ[\"SPARK_HOME\"]=\"/usr/hdp/current/spark2-client\"\n",
    "# # os.environ[\"JAVA_HOME\"]=\"/usr/java/jdk1.8.0_191/jre\"\n",
    "\n",
    "# spark = pyspark.sql.SparkSession.builder\\\n",
    "#     .master(\"yarn\")\\\n",
    "#     .appName(\"d_arhipova_dz4_solution\")\\\n",
    "#     .config(\"spark.executor.instances\", \"1\")\\\n",
    "#     .config(\"spark.executor.memory\", \"1G\")\\\n",
    "#     .config(\"spark.executor.cores\", \"2\")\\\n",
    "#     .config(\"spark.dynamicAllocation.enabled\", \"false\")\\\n",
    "#     .config(\"spark.dynamicAllocation.executorIdleTimeout\", \"300s\")\\\n",
    "#     .config(\"spark.dynamicAllocation.maxExecutors\", \"1000\")\\\n",
    "#     .config(\"spark.driver.memory\", \"1G\")\\\n",
    "#     .config(\"spark.driver.maxResultSize\", \"1G\")\\\n",
    "#     .config(\"spark.serializer\", \"org.apache.spark.serializer.KryoSerializer\")\\\n",
    "#     .config(\"spark.kryoserializer.buffer.max\", \"1024m\")\\\n",
    "#     .enableHiveSupport()\\\n",
    "#     .getOrCreate()\n",
    "\n",
    "# spark_context = spark.sparkContext"
   ]
  },
  {
   "cell_type": "code",
   "execution_count": null,
   "id": "a0dbb9bf-8e77-487e-8b00-e673bf3afccd",
   "metadata": {},
   "outputs": [],
   "source": [
    "import os\n",
    "import pyspark\n",
    "from pyspark import SparkContext, SparkConf\n",
    "from pyspark.sql import SparkSession, Window\n",
    "\n",
    "from pyspark.sql.types import *\n",
    "import pyspark.sql.functions as sf\n",
    "\n",
    "os.environ[\"HADOOP_CONF_DIR\"] = \"/etc/hadoop/conf\"\n",
    "os.environ[\"HIVE_HOME\"]=\"/usr/lib/hive\"\n",
    "os.environ[\"METASTORE_PORT\"]=\"9083\"\n",
    "# os.environ[\"SPARK_HOME\"]=\"/usr/hdp/current/spark2-client\"\n",
    "# os.environ[\"JAVA_HOME\"]=\"/usr/java/jdk1.8.0_191/jre\"\n",
    "\n",
    "spark = SparkSession.builder \\\n",
    "    .master(\"local[*]\") \\\n",
    "    .appName(\"Local PySpark Session\") \\\n",
    "    .config(\"spark.executor.instances\", \"1\")\\\n",
    "    .config(\"spark.executor.memory\", \"1G\")\\\n",
    "    .config(\"spark.executor.cores\", \"2\")\\\n",
    "    .config(\"spark.dynamicAllocation.enabled\", \"false\")\\\n",
    "    .config(\"spark.dynamicAllocation.executorIdleTimeout\", \"300s\")\\\n",
    "    .config(\"spark.dynamicAllocation.maxExecutors\", \"1000\")\\\n",
    "    .config(\"spark.driver.memory\", \"1G\")\\\n",
    "    .config(\"spark.driver.maxResultSize\", \"1G\")\\\n",
    "    .config(\"spark.serializer\", \"org.apache.spark.serializer.KryoSerializer\")\\\n",
    "    .config(\"spark.kryoserializer.buffer.max\", \"1024m\")\\\n",
    "    .enableHiveSupport()\\\n",
    "    .getOrCreate()\n",
    "\n",
    "spark_context = spark.sparkContext"
   ]
  },
  {
   "cell_type": "code",
   "execution_count": null,
   "id": "89332c56-9125-4c81-8974-23fadce3e848",
   "metadata": {},
   "outputs": [],
   "source": [
    "print(\"Yarn       http://91.219.226.252:8088/cluster/scheduler\")\n",
    "print(\"Spark      http://91.219.226.252:8088/proxy/{}/stages/\".format(spark_context.applicationId))\n",
    "print(\"App info   http://91.219.226.252:8088/cluster/app/{}/\".format(spark_context.applicationId))"
   ]
  },
  {
   "cell_type": "code",
   "execution_count": null,
   "id": "4f2e4b54-3b54-4bd0-ac93-26cc3df7e552",
   "metadata": {},
   "outputs": [],
   "source": [
    "sourcePriceDF = (\n",
    "    spark.read\n",
    "        .option(\"header\", \"false\")\n",
    "        .option(\"sep\", \";\")\n",
    "        .csv(\"/home/d.arhipova/dz4/data3/rosstat/price/\")\n",
    ")\n",
    "sourcePriceDF.printSchema()\n",
    "sourcePriceDF.show()"
   ]
  },
  {
   "cell_type": "code",
   "execution_count": null,
   "id": "d693c992-4ee1-4bc1-91ed-ec0d7817fae7",
   "metadata": {},
   "outputs": [],
   "source": [
    "sourcePriceDF = sourcePriceDF.withColumn(\"_c2\", sf.regexp_replace(\"_c2\", \",\", \".\"))\n",
    "sourcePriceDF.show()"
   ]
  },
  {
   "cell_type": "code",
   "execution_count": null,
   "id": "e44427e5-ae42-49c7-901f-6128bb076933",
   "metadata": {},
   "outputs": [],
   "source": [
    "sourcePriceDF = (\n",
    "    sourcePriceDF\n",
    "    .select(\n",
    "        sf.col(\"_c0\").cast(IntegerType()).alias(\"city_id\"),\n",
    "        sf.col(\"_c1\").cast(IntegerType()).alias(\"product_id\"),\n",
    "        sf.round(sf.col(\"_c2\").cast(FloatType()), 2).alias(\"price\")\n",
    "    )\n",
    ") \n",
    "sourcePriceDF.printSchema()\n",
    "sourcePriceDF.show()"
   ]
  },
  {
   "cell_type": "code",
   "execution_count": null,
   "id": "406667e5-0050-43d6-9878-0803c4dcef2a",
   "metadata": {},
   "outputs": [],
   "source": [
    "sourceCitiesDF = spark.read.table(\"user_d_arhipova.cities\")\n",
    "sourceCitiesDF.printSchema()\n",
    "sourceCitiesDF.show()"
   ]
  },
  {
   "cell_type": "code",
   "execution_count": null,
   "id": "7d0b6157-f740-4bc4-ab1a-23ea62669307",
   "metadata": {},
   "outputs": [],
   "source": [
    "sourceProductsDF = spark.read.table(\"user_d_arhipova.products\")\n",
    "sourceProductsDF.printSchema()\n",
    "sourceProductsDF.show()"
   ]
  },
  {
   "cell_type": "code",
   "execution_count": null,
   "id": "e1c8f426-68e8-4a45-b48d-1965e8d9b704",
   "metadata": {},
   "outputs": [],
   "source": [
    "sourceProductsForStatDF = spark.read.table(\"user_d_arhipova.products_for_stat\")\n",
    "sourceProductsForStatDF.printSchema()\n",
    "sourceProductsForStatDF.show()"
   ]
  },
  {
   "cell_type": "markdown",
   "id": "bc6943eb-2f81-43eb-9c74-095b373fc55d",
   "metadata": {},
   "source": [
    "Задание 1. Для предложенных товаров необходимо вычислить минимальную, максимальную и среднюю цену по всем городам (будет получен датасет price_stat), результат сохранить в hdfs. "
   ]
  },
  {
   "cell_type": "code",
   "execution_count": null,
   "id": "6993eb5d-7289-410c-8b6b-e52562b70b6b",
   "metadata": {},
   "outputs": [],
   "source": [
    "joined_df = (\n",
    "    sourcePriceDF\n",
    "    .join(sourceCitiesDF, on=\"city_id\")\n",
    "    .join(sourceProductsDF, on=\"product_id\")\n",
    "    .join(sourceProductsForStatDF, on=\"product_id\")\n",
    ")"
   ]
  },
  {
   "cell_type": "code",
   "execution_count": null,
   "id": "b20a29bf-190a-46b9-abf2-bc6fe73b8f7e",
   "metadata": {},
   "outputs": [],
   "source": [
    "joined_df.show()"
   ]
  },
  {
   "cell_type": "code",
   "execution_count": null,
   "id": "9632bbdd-4654-4b56-8335-7c637c2fb5c6",
   "metadata": {},
   "outputs": [],
   "source": [
    "#проверим, что в нашей новой таблице уникальных записей столько же, сколько в таблице products_for_stat\n",
    "sourceProductsForStatDF.count() == joined_df.select(\"product_id\").distinct().count()"
   ]
  },
  {
   "cell_type": "code",
   "execution_count": null,
   "id": "0aacfdbe-d1d1-46b4-b292-9428c3f9c19e",
   "metadata": {},
   "outputs": [],
   "source": [
    "price_stat = joined_df.groupBy(\"product_id\").agg(\n",
    "    sf.min(\"price\").alias(\"min_price\"),\n",
    "    sf.max(\"price\").alias(\"max_price\"),\n",
    "    sf.round(sf.avg(\"price\"), 2).alias(\"price_avg\")\n",
    ")"
   ]
  },
  {
   "cell_type": "code",
   "execution_count": null,
   "id": "fdcb157f-82cb-4b3c-ba08-b545cc5f941a",
   "metadata": {},
   "outputs": [],
   "source": [
    "price_stat.show()"
   ]
  },
  {
   "cell_type": "code",
   "execution_count": null,
   "id": "8cec568f-ba35-49e6-befa-308e7526226c",
   "metadata": {},
   "outputs": [],
   "source": [
    "price_stat = price_stat.orderBy(\"product_id\")\n",
    "price_stat.show()"
   ]
  },
  {
   "cell_type": "code",
   "execution_count": null,
   "id": "02cde330-4bb5-435e-863d-2e891c2f829f",
   "metadata": {},
   "outputs": [],
   "source": [
    "#сохраняю локально\n",
    "price_stat.write.option(\"sep\", \";\").option(\"header\", \"true\").mode(\"overwrite\").format(\"csv\").save(\"/home/d.arhipova/task3/price_stat\")"
   ]
  },
  {
   "cell_type": "code",
   "execution_count": null,
   "id": "c9625a4f-ef74-45d2-8313-3cfb38b884ba",
   "metadata": {},
   "outputs": [],
   "source": [
    "price_stat.write.option(\"sep\", \";\").option(\"header\", \"true\").mode(\"overwrite\").format(\"csv\").save(\"/user/d.arhipova/task3/price_stat\")"
   ]
  },
  {
   "cell_type": "markdown",
   "id": "cd0a461e-7294-4ff4-b304-45ac57b0a6db",
   "metadata": {},
   "source": [
    "Задание 2. Из набора данных ОК следует для всех пользователей из городов, цена на товары в которых выше средней, собрать статистику, которая будет содержать: название города, число пользователей из этого города, средний возраст пользователей, число пользователей мужчин, число пользователей женщин, доля мужчин, доля женщин (датасет ok_dem). "
   ]
  },
  {
   "cell_type": "code",
   "execution_count": null,
   "id": "5697d8c1-6c7a-4988-8911-2b48b1ec4bff",
   "metadata": {},
   "outputs": [],
   "source": [
    "sourceRSCityDF = spark.read.table(\"user_d_arhipova.rs_city\")\n",
    "sourceRSCityDF.printSchema()\n",
    "sourceRSCityDF.show()"
   ]
  },
  {
   "cell_type": "code",
   "execution_count": null,
   "id": "9535774d-ea36-4192-970b-d123779292f0",
   "metadata": {},
   "outputs": [],
   "source": [
    "sourceCoreDemographyDF = spark.read.table(\"user_d_arhipova.core_demography\")\n",
    "sourceCoreDemographyDF.printSchema()\n",
    "sourceCoreDemographyDF.show()"
   ]
  },
  {
   "cell_type": "code",
   "execution_count": null,
   "id": "937145c1-800f-48a2-b04c-613f10b7b3ec",
   "metadata": {},
   "outputs": [],
   "source": [
    "ok_dem = sourceCoreDemographyDF.join(sourceRSCityDF, on=\"id_location\").join(sourceCitiesDF, on=\"city_id\", how='inner')\n",
    "ok_dem.show()"
   ]
  },
  {
   "cell_type": "code",
   "execution_count": null,
   "id": "a9120056-2da5-4413-b0bc-cd2f4895d8ed",
   "metadata": {},
   "outputs": [],
   "source": [
    "ok_dem = ok_dem.drop(\"id_location\", \"create_date\", \"id_country\", \"login_region\")\n",
    "ok_dem.show()"
   ]
  },
  {
   "cell_type": "code",
   "execution_count": null,
   "id": "70b99b50-1544-4ee3-a292-9996219575f8",
   "metadata": {},
   "outputs": [],
   "source": [
    "price_avg = sourcePriceDF.groupBy(\"product_id\").agg(\n",
    "    sf.mean(\"price\").alias(\"price_avg\")\n",
    ")\n",
    "price_avg.show()"
   ]
  },
  {
   "cell_type": "code",
   "execution_count": null,
   "id": "68832e48-f907-4ca1-a558-8e10c080ac6d",
   "metadata": {},
   "outputs": [],
   "source": [
    "high_price_cities = sourcePriceDF.join(price_avg.select([\"product_id\",\"price_avg\"]), on = \"product_id\").filter(sf.col(\"price\") > sf.col(\"price_avg\"))\n",
    "high_price_cities = high_price_cities.select(\"city_id\").distinct()\n",
    "high_price_cities.show()"
   ]
  },
  {
   "cell_type": "code",
   "execution_count": null,
   "id": "86a63e3f-3fcb-4a8c-8378-ee3e80ac8956",
   "metadata": {},
   "outputs": [],
   "source": [
    "ok_dem = ok_dem.join(high_price_cities, on = \"city_id\")\n",
    "ok_dem.show()"
   ]
  },
  {
   "cell_type": "code",
   "execution_count": null,
   "id": "4aacfc4b-525b-42fe-8b8e-9c7318c3e171",
   "metadata": {},
   "outputs": [],
   "source": [
    "ok_dem = ok_dem.groupBy(\"city_name\").agg(\n",
    "        sf.count(\"id\").alias(\"user_cnt\"),\n",
    "        sf.round(sf.avg(sf.datediff(sf.to_date(sf.lit(\"2023-03-01\")), sf.to_date(sf.expr(\"timestamp(birth_date * 24*60*60)\")))/365.25), 2).alias(\"avg_age\"),\n",
    "        sf.sum(sf.when(ok_dem.gender == 1, 1).otherwise(0)).alias(\"men_cnt\"),\n",
    "        sf.sum(sf.when(ok_dem.gender == 2, 1).otherwise(0)).alias(\"women_cnt\"),\n",
    "        sf.round(sf.sum(sf.when(ok_dem.gender == 1, 1).otherwise(0)) / sf.count(\"id\"), 2).alias(\"men_share\"),\n",
    "        sf.round(sf.sum(sf.when(ok_dem.gender == 2, 1).otherwise(0)) / sf.count(\"id\"), 2).alias(\"women_share\")\n",
    "    ).orderBy(\"user_cnt\", ascending=False)"
   ]
  },
  {
   "cell_type": "code",
   "execution_count": null,
   "id": "c1fcdcc1-ff74-4952-9c39-ff2b3b23c365",
   "metadata": {},
   "outputs": [],
   "source": [
    "ok_dem.show()"
   ]
  },
  {
   "cell_type": "markdown",
   "id": "492676f0-1bfb-4a2a-a7c7-f6d065140412",
   "metadata": {},
   "source": [
    "Из полученного датасета нужно будет выбрать города с максимальным и минимальным средним возрастом, максимальной долей мужчин и максимальной долей женщин."
   ]
  },
  {
   "cell_type": "code",
   "execution_count": null,
   "id": "c7f436b0-387f-4f24-a8e8-199ffb347e4c",
   "metadata": {},
   "outputs": [],
   "source": [
    "max_avg_age_city = ok_dem.orderBy(sf.desc(\"avg_age\")).first()\n",
    "min_avg_age_city = ok_dem.orderBy(\"avg_age\").first()\n",
    "\n",
    "max_men_share_city = ok_dem.orderBy(sf.desc(\"men_share\")).first()\n",
    "max_women_share_city = ok_dem.orderBy(sf.desc(\"women_share\")).first()"
   ]
  },
  {
   "cell_type": "code",
   "execution_count": null,
   "id": "28e98907-6931-4499-93f0-7612d92898c9",
   "metadata": {},
   "outputs": [],
   "source": [
    "print(\"Город с максимальным средним возрастом:\", max_avg_age_city.city_name, \", максимальный средний возраст:\", max_avg_age_city.avg_age)\n",
    "print(\"Город с минимальным средним возрастом:\", min_avg_age_city.city_name, \", минимальный средний возраст:\", min_avg_age_city.avg_age)\n",
    "print(\"Город с максимальной долей мужчин:\", max_men_share_city.city_name, \", максимальная доля мужчин:\", max_men_share_city.men_share)\n",
    "print(\"Город с максимальной долей женщин:\", max_women_share_city.city_name, \", максимальная доля женщин:\", max_women_share_city.women_share)"
   ]
  },
  {
   "cell_type": "code",
   "execution_count": null,
   "id": "9333c9c2-c633-4440-98fc-c8f283cb61e8",
   "metadata": {},
   "outputs": [],
   "source": [
    "#сохраняю локально\n",
    "price_stat.write.option(\"sep\", \";\").option(\"header\", \"true\").mode(\"overwrite\").format(\"csv\").save(\"/home/d.arhipova/task3/ok_dem\")"
   ]
  },
  {
   "cell_type": "code",
   "execution_count": null,
   "id": "a2b01225-453c-4572-997b-016c713aa2ee",
   "metadata": {},
   "outputs": [],
   "source": [
    "price_stat.write.option(\"sep\", \";\").option(\"header\", \"true\").mode(\"overwrite\").format(\"csv\").save(\"/user/d.arhipova/task3/ok_dem\")"
   ]
  },
  {
   "cell_type": "markdown",
   "id": "7c965c8d-f092-40f0-87bf-73e2e4144051",
   "metadata": {},
   "source": [
    "Задание 3. Для этих городов в данных Росстат нужно будет выбрать самый дешевый и самый дорогой товары, разницу в цене между ними (датасет product_stat)."
   ]
  },
  {
   "cell_type": "code",
   "execution_count": null,
   "id": "cb87d005-58ae-42f4-aba4-1f28ba3974a5",
   "metadata": {},
   "outputs": [],
   "source": [
    "selected_cities = sourceCitiesDF.filter(sf.col(\"city_name\").isin([\"Симферополь\", \"Новороссийск\", \"Тихвин\", \"Казань\"]))\n",
    "selected_cities.show()"
   ]
  },
  {
   "cell_type": "code",
   "execution_count": null,
   "id": "04f0acf1-f27f-4cd7-ac59-d8a74c84435f",
   "metadata": {},
   "outputs": [],
   "source": [
    "# Присоединение таблиц для получения полных данных\n",
    "all_cities_price = sourcePriceDF.join(selected_cities, \"city_id\").join(sourceProductsDF, \"product_id\")\n",
    "all_cities_price.show()"
   ]
  },
  {
   "cell_type": "code",
   "execution_count": null,
   "id": "b794d6ea-a545-41bf-bfcc-e139e97854cd",
   "metadata": {},
   "outputs": [],
   "source": [
    "product_stat = (\n",
    "    all_cities_price\n",
    "    .join(selected_cities, on = \"city_name\", how=\"inner\")\n",
    "    .select(\n",
    "        sf.col(\"product_name\"),\n",
    "        sf.col(\"price\"),\n",
    "        sf.col(\"city_name\")\n",
    "    )\n",
    ")\n",
    "product_stat.show()"
   ]
  },
  {
   "cell_type": "code",
   "execution_count": null,
   "id": "44c00940-9842-4707-a1f9-42308df1c994",
   "metadata": {},
   "outputs": [],
   "source": [
    "min_max_city_prices = product_stat.groupBy(\"city_name\").agg(\n",
    "    sf.max(\"price\").alias(\"max_price\"),\n",
    "    sf.min(\"price\").alias(\"min_price\")\n",
    ")"
   ]
  },
  {
   "cell_type": "code",
   "execution_count": null,
   "id": "9a5294d2-e68a-4b3a-b7c0-99cfbdf1b472",
   "metadata": {},
   "outputs": [],
   "source": [
    "min_max_city_prices.show()"
   ]
  },
  {
   "cell_type": "code",
   "execution_count": null,
   "id": "48780d4f-a152-4b22-b6a1-5f554070d5fe",
   "metadata": {},
   "outputs": [],
   "source": [
    "min_price_products = (\n",
    "    product_stat\n",
    "    .join(min_max_city_prices, on = \"city_name\" , how = \"inner\")\n",
    "    .select(\n",
    "        sf.col(\"city_name\"),\n",
    "        sf.col(\"min_price\"),\n",
    "        sf.col(\"product_name\"),\n",
    "    )\n",
    "    .where(\n",
    "        product_stat.price == min_max_city_prices.min_price\n",
    "    )\n",
    ").withColumnRenamed(\"product_name\", \"min_priced_product_name\")\n",
    "min_price_products.show()"
   ]
  },
  {
   "cell_type": "code",
   "execution_count": null,
   "id": "0a616742-f162-4f61-baf9-b3c8142e0810",
   "metadata": {},
   "outputs": [],
   "source": [
    "max_price_products = (\n",
    "    product_stat\n",
    "    .join(min_max_city_prices, on = \"city_name\" , how = \"inner\")\n",
    "    .select(\n",
    "        sf.col(\"city_name\"),\n",
    "        sf.col(\"max_price\"),\n",
    "        sf.col(\"product_name\"),\n",
    "    )\n",
    "    .where(\n",
    "        product_stat.price == min_max_city_prices.max_price\n",
    "    )\n",
    ").withColumnRenamed(\"product_name\", \"max_priced_product_name\")\n",
    "max_price_products.show()"
   ]
  },
  {
   "cell_type": "code",
   "execution_count": null,
   "id": "8964fcbb-29aa-44a8-805e-b6a5f4cd63b9",
   "metadata": {},
   "outputs": [],
   "source": [
    "product_stat = min_price_products.join(max_price_products, on = \"city_name\", how=\"inner\").withColumn(\"price_diff\", sf.col(\"max_price\") - sf.col(\"min_price\"))\n",
    "product_stat.show()"
   ]
  },
  {
   "cell_type": "code",
   "execution_count": null,
   "id": "441ee0a2-8ec4-4953-a969-6f1532c29fa5",
   "metadata": {},
   "outputs": [],
   "source": [
    "#сохраняю локально\n",
    "product_stat.write.option(\"sep\", \";\").option(\"header\", \"true\").mode(\"overwrite\").format(\"csv\").save(\"/home/d.arhipova/task3/product_stat\")"
   ]
  },
  {
   "cell_type": "code",
   "execution_count": null,
   "id": "4a87ef81-4bab-4c2e-837b-da0643abcca3",
   "metadata": {},
   "outputs": [],
   "source": [
    "product_stat.write.option(\"sep\", \";\").option(\"header\", \"true\").mode(\"overwrite\").format(\"csv\").save(\"/user/d.arhipova/task3/product_stat\")"
   ]
  },
  {
   "cell_type": "code",
   "execution_count": null,
   "id": "c23110b2-8495-45d0-b61b-e51378512ffe",
   "metadata": {},
   "outputs": [],
   "source": [
    "# После работы обязательно отключаем спарк и отдаем ресурсы!\n",
    "spark.stop()"
   ]
  },
  {
   "cell_type": "code",
   "execution_count": null,
   "id": "9d6b277c-0f3a-4c33-8fa5-a6b3ead5ae7e",
   "metadata": {},
   "outputs": [],
   "source": []
  }
 ],
 "metadata": {
  "kernelspec": {
   "display_name": "Python 3 (ipykernel)",
   "language": "python",
   "name": "python3"
  },
  "language_info": {
   "codemirror_mode": {
    "name": "ipython",
    "version": 3
   },
   "file_extension": ".py",
   "mimetype": "text/x-python",
   "name": "python",
   "nbconvert_exporter": "python",
   "pygments_lexer": "ipython3",
   "version": "3.10.13"
  }
 },
 "nbformat": 4,
 "nbformat_minor": 5
}
